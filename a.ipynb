{
 "cells": [
  {
   "cell_type": "code",
   "execution_count": 7,
   "metadata": {},
   "outputs": [
    {
     "name": "stdout",
     "output_type": "stream",
     "text": [
      "   id      screen_name                created_at  \\\n",
      "0   1       gptournier 2023-11-16 15:13:18+00:00   \n",
      "1   2       jouanetwan 2023-11-26 07:34:34+00:00   \n",
      "2   3  vince_thouvenin 2023-12-21 14:27:08+00:00   \n",
      "3   4   BiduleAnatheme 2023-12-28 21:32:58+00:00   \n",
      "4   5  vince_thouvenin 2023-12-29 10:08:10+00:00   \n",
      "\n",
      "                                           full_text  \n",
      "0  ENGIEpartFR n6 mois d attente et tjs aucune r ...  \n",
      "1  Bonjour ENGIEpartSAV , l appli monpilotageelec...  \n",
      "2  ENGIEpartFR mon syndic de copropri t  sergic e...  \n",
      "3  ENGIEpartSAV vous envisagez de vous occuper de...  \n",
      "4  ENGIEpartSAV retour de votre technicien vous n...  \n"
     ]
    },
    {
     "name": "stderr",
     "output_type": "stream",
     "text": [
      "C:\\Users\\baayv\\AppData\\Local\\Temp\\ipykernel_23088\\1417393841.py:37: SettingWithCopyWarning: \n",
      "A value is trying to be set on a copy of a slice from a DataFrame\n",
      "\n",
      "See the caveats in the documentation: https://pandas.pydata.org/pandas-docs/stable/user_guide/indexing.html#returning-a-view-versus-a-copy\n",
      "  df_filtered.drop(columns=['prev_screen_name', 'is_duplicate'], inplace=True)\n",
      "C:\\Users\\baayv\\AppData\\Local\\Temp\\ipykernel_23088\\1417393841.py:40: SettingWithCopyWarning: \n",
      "A value is trying to be set on a copy of a slice from a DataFrame.\n",
      "Try using .loc[row_indexer,col_indexer] = value instead\n",
      "\n",
      "See the caveats in the documentation: https://pandas.pydata.org/pandas-docs/stable/user_guide/indexing.html#returning-a-view-versus-a-copy\n",
      "  df_filtered['id'] = range(1, len(df_filtered) + 1)\n"
     ]
    }
   ],
   "source": [
    "import pandas as pd\n",
    "import re\n",
    "\n",
    "# Charger le fichier CSV\n",
    "df = pd.read_csv('filtered_tweets_engie.csv', delimiter=';')\n",
    "\n",
    "# Convertir la colonne 'created_at' en datetime\n",
    "df['created_at'] = pd.to_datetime(df['created_at'], errors='coerce', utc=True)\n",
    "\n",
    "\n",
    "# Supprimer la colonne 'name' (expliqué dans la consigne)\n",
    "df = df.drop(columns=['name'])\n",
    "\n",
    "# Supprimer les tweets où 'screen_name' est 'ENGIEpartFR'\n",
    "df = df[df['screen_name'] != 'ENGIEpartFR']\n",
    "\n",
    "# Supprimer les caractères spéciaux, les emojis et les sauts de ligne\n",
    "def clean_text(text):\n",
    "    # Enlever les sauts de ligne et les retours chariots\n",
    "    text = text.replace('\\n', ' ').replace('\\r', ' ')\n",
    "    # Enlever les emojis avec une expression régulière\n",
    "    text = re.sub(r'[^\\x00-\\x7F]+', ' ', text)  # Enlever les caractères non-ASCII (comme les emojis)\n",
    "    # Enlever les caractères spéciaux\n",
    "    text = re.sub(r'[^\\w\\s,!?;.]', '', text)  # Garde seulement les lettres, chiffres et certains signes de ponctuation\n",
    "    return text\n",
    "\n",
    "df['full_text'] = df['full_text'].apply(clean_text)\n",
    "\n",
    "# Supprimer les messages successifs du même 'screen_name'\n",
    "df['prev_screen_name'] = df['screen_name'].shift(1)  # Créer une colonne pour le 'screen_name' précédent\n",
    "df['is_duplicate'] = df['screen_name'] == df['prev_screen_name']  # Marquer les messages successifs\n",
    "\n",
    "# Filtrer les doublons successifs\n",
    "df_filtered = df[~df['is_duplicate']]  # Garder uniquement les tweets qui ne sont pas des doublons successifs\n",
    "\n",
    "# Supprimer la colonne temporaire\n",
    "df_filtered.drop(columns=['prev_screen_name', 'is_duplicate'], inplace=True)\n",
    "\n",
    "# Renommer les 'id' pour commencer à 1 et incrémenter de 1 à chaque ligne\n",
    "df_filtered['id'] = range(1, len(df_filtered) + 1)\n",
    "\n",
    "# Sauvegarder le DataFrame nettoyé dans un nouveau fichier CSV\n",
    "df_filtered.to_csv('filtered_tweets_engie_cleaned.csv', index=False, sep=';')\n",
    "\n",
    "# Afficher les premières lignes du DataFrame nettoyé\n",
    "print(df_filtered.head())\n"
   ]
  }
 ],
 "metadata": {
  "kernelspec": {
   "display_name": "Python 3",
   "language": "python",
   "name": "python3"
  },
  "language_info": {
   "codemirror_mode": {
    "name": "ipython",
    "version": 3
   },
   "file_extension": ".py",
   "mimetype": "text/x-python",
   "name": "python",
   "nbconvert_exporter": "python",
   "pygments_lexer": "ipython3",
   "version": "3.11.6"
  }
 },
 "nbformat": 4,
 "nbformat_minor": 2
}
